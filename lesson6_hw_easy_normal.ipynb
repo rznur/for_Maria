{
 "cells": [
  {
   "cell_type": "markdown",
   "metadata": {},
   "source": [
    "## EASY"
   ]
  },
  {
   "cell_type": "code",
   "execution_count": null,
   "metadata": {},
   "outputs": [],
   "source": [
    "# Задача-1: Написать класс для фигуры-треугольника, заданного координатами трех точек.\n",
    "# Определить методы, позволяющие вычислить: площадь, высоту и периметр фигуры.\n",
    "\n",
    "import math\n",
    "\n",
    "class Triangle:\n",
    "    def __init__(self, x1,y1, x2,y2, x3,y3):\n",
    "        #A\n",
    "        self.x1 = x1\n",
    "        self.y1 = y1\n",
    "        #B\n",
    "        self.x2 = x2\n",
    "        self.y2 = y2\n",
    "        #C\n",
    "        self.x3 = x3\n",
    "        self.y3 = y3\n",
    "        self.AB = math.sqrt((x1-x2)**2+(y1-y2)**2)\n",
    "        self.BC = math.sqrt((x2-x3)**2+(y2-y3)**2)\n",
    "        self.AC = math.sqrt((x1-x3)**2+(y1-y3)**2)\n",
    "        self.p = (self.AB + self.BC + self.AC)/2 #half of perimetr to be used in height\n",
    "    def area(self):\n",
    "        self.h = (2/self.AB)*math.sqrt(self.p*(self.p - self.AB)*(self.p - self.BC)*(self.p - self.AC))\n",
    "        self.area = round((self.h/2)*self.AB,2)\n",
    "        return(self.area)\n",
    "    def height(self): # to AB\n",
    "        self.h = round((2/self.AB)*math.sqrt(self.p*(self.p - self.AB)*(self.p - self.BC)*(self.p - self.AC)),2)\n",
    "        return('height (AB as base) :', self.h)\n",
    "    def perimetr(self):\n",
    "        self.perimetr = round(self.AB + self.BC + self.AC,2)\n",
    "        return(self.perimetr)\n"
   ]
  },
  {
   "cell_type": "code",
   "execution_count": null,
   "metadata": {},
   "outputs": [],
   "source": [
    "triangle3 = Triangle(6,7,8,9,7,0)"
   ]
  },
  {
   "cell_type": "code",
   "execution_count": null,
   "metadata": {},
   "outputs": [],
   "source": [
    "triangle3.area()"
   ]
  },
  {
   "cell_type": "code",
   "execution_count": null,
   "metadata": {},
   "outputs": [],
   "source": [
    "triangle3.perimetr()"
   ]
  },
  {
   "cell_type": "code",
   "execution_count": null,
   "metadata": {},
   "outputs": [],
   "source": [
    "triangle3.height()"
   ]
  },
  {
   "cell_type": "code",
   "execution_count": null,
   "metadata": {},
   "outputs": [],
   "source": [
    "# Задача-2: Написать Класс \"Равнобочная трапеция\", заданной координатами 4-х точек.\n",
    "# Предусмотреть в классе методы:\n",
    "# проверка, является ли фигура равнобочной трапецией;\n",
    "# вычисления: длины сторон, периметр, площадь."
   ]
  },
  {
   "cell_type": "code",
   "execution_count": 33,
   "metadata": {},
   "outputs": [],
   "source": [
    "# НЕ МОГУ СДЕЛАТЬ ПРОВЕРКУ РАВНОБОЧНАЯ ЛИ ... совсем забыла геометрию...или обленилась. Подскажите, пжл, как. или пример решения \n",
    "import math\n",
    "\n",
    "class Trapezium: \n",
    "    # задавая вершины трапеции, пользователь должен помнить, что AB и CD - это стороны, а BC и DA - основания\n",
    "    # это надо учесть!!!\n",
    "    # важно соблюдать последовательность ввода вершин от А до Д, иначе считать будет неправильно\n",
    "    def __init__(self, A_x,A_y, B_x,B_y, C_x,C_y, D_x,D_y):\n",
    "        #A\n",
    "        self.A_x = A_x\n",
    "        self.A_y = A_y\n",
    "        #B\n",
    "        self.B_x = B_x\n",
    "        self.B_y = B_y\n",
    "        #C\n",
    "        self.C_x = C_x\n",
    "        self.C_y = C_y\n",
    "        #D\n",
    "        self.D_x = D_x\n",
    "        self.D_y = D_y\n",
    "        #bases\n",
    "        if B_x == C_x:\n",
    "            self.BC = abs(B_y-C_y)\n",
    "            print('BC=',self.BC)\n",
    "            self.h = abs(A_x-B_x)\n",
    "            print('h=',self.h)\n",
    "        else:\n",
    "            self.BC = abs(B_x-C_x)\n",
    "            self.h = abs(B_y-A_y)\n",
    "            print('BC=',self.BC)\n",
    "            print('h = ',self.h)\n",
    "            \n",
    "        if D_x == A_x:\n",
    "            self.DA = abs(D_y-A_y)\n",
    "            print('DA = ',self.DA)\n",
    "        else:\n",
    "            self.DA = abs(D_x-A_x)\n",
    "            print('DA = ',self.DA) \n",
    "        #clean check:\n",
    "        self.area = ((self.BC + self.DA)/2 )* self.h\n",
    "        self.\n",
    "        \n",
    "    def area(self):\n",
    "        self.area = ((self.BC + self.DA)/2 )* self.h\n",
    "        return(self.area)\n",
    "    \n",
    "    def sides(self):\n",
    "        # 1st way to calc sides\n",
    "        #self.area = ((self.BC + self.DA)/2 )* self.h\n",
    "        #rearrange formula for area from sides:\n",
    "        self.AB = self.CD = round(math.sqrt(((self.area*4/(self.BC+self.DA))**2+(self.BC-self.DA)**2)/4),2)\n",
    "        #2nd way to calc sides:\n",
    "        #self.BO =  abs(self.BC - self.DA)/2\n",
    "        #self.AB = self.CD = math.sqrt(self.BO**2+self.h**2) #trying Pyfagor\n",
    "        print('AB = ', self.AB, 'BC =',self.BC,'CD =', self.CD, 'DA = ', self.DA)\n",
    "        \n",
    "    def perimetr(self):\n",
    "        self.perimetr = self.AB + self.BC + self.CD + self.DA\n",
    "        return(self.perimetr)\n"
   ]
  },
  {
   "cell_type": "code",
   "execution_count": 34,
   "metadata": {},
   "outputs": [
    {
     "name": "stdout",
     "output_type": "stream",
     "text": [
      "BC= 4\n",
      "h =  1\n",
      "DA =  2\n"
     ]
    }
   ],
   "source": [
    "trpz2 = Trapezium(8,1, 7,2, 11,2, 10,1)"
   ]
  },
  {
   "cell_type": "code",
   "execution_count": 35,
   "metadata": {},
   "outputs": [
    {
     "data": {
      "text/plain": [
       "3.0"
      ]
     },
     "execution_count": 35,
     "metadata": {},
     "output_type": "execute_result"
    }
   ],
   "source": [
    "trpz2.area()"
   ]
  },
  {
   "cell_type": "code",
   "execution_count": 36,
   "metadata": {},
   "outputs": [
    {
     "name": "stdout",
     "output_type": "stream",
     "text": [
      "AB =  1.41 BC = 4 CD = 1.41 DA =  2\n"
     ]
    }
   ],
   "source": [
    "trpz2.sides()"
   ]
  },
  {
   "cell_type": "code",
   "execution_count": 37,
   "metadata": {},
   "outputs": [
    {
     "data": {
      "text/plain": [
       "8.82"
      ]
     },
     "execution_count": 37,
     "metadata": {},
     "output_type": "execute_result"
    }
   ],
   "source": [
    "trpz2.perimetr()"
   ]
  },
  {
   "cell_type": "markdown",
   "metadata": {},
   "source": [
    "## NORMAL"
   ]
  },
  {
   "cell_type": "code",
   "execution_count": null,
   "metadata": {},
   "outputs": [],
   "source": []
  },
  {
   "cell_type": "code",
   "execution_count": 45,
   "metadata": {},
   "outputs": [],
   "source": [
    "class School_classes:\n",
    "    def __init__(self, class_room)\n",
    "        self.class_room = class_room\n",
    "        \n",
    "class People:\n",
    "    \n",
    "    def __init__(self, name, surname):\n",
    "        self.name = name\n",
    "        self.surname = surname\n",
    "        \n",
    "        \n",
    "class Pupil(People):\n",
    "    \n",
    "    def __init__(self, name, surname, birth_date, father_name, father_surname, mother_name, mother_surname, class_room):\n",
    "        # Явно вызываем конструктор родительского класса\n",
    "        People.__init__(self, name, surname )\n",
    "        super().__init__(name, surname)\n",
    "        self.birth_date = birth_date\n",
    "        self.father_name = father_name\n",
    "        self.father_surname = father_surname\n",
    "        self.mother_name = mother_name\n",
    "        self.mother_surname = mother_surname\n",
    "        self.class_room = class_room\n",
    "#a mojno kakim-to obrazom i roditei otpravit v klass People?\n",
    "\n",
    "\n",
    "class Teacher(People):\n",
    "    def __init__(self, name, surname, teach_subject, teach_classes):\n",
    "        # Явно вызываем конструктор родительского класса\n",
    "        People.__init__(self, name, surname )\n",
    "        \n",
    "\n",
    "uchen1 = Pupil('john','lennon', '20.09.1957', 'bob', 'lenon', 'lia', 'shirly', '7a')"
   ]
  },
  {
   "cell_type": "code",
   "execution_count": null,
   "metadata": {},
   "outputs": [],
   "source": [
    "# Задание-1:\n",
    "# Реализуйте описаную ниже задачу, используя парадигмы ООП:\n",
    "# В школе есть Классы(5А, 7Б и т.д.), в которых учатся Ученики.\n",
    "# У каждого ученика есть два Родителя(мама и папа).\n",
    "# Также в школе преподают Учителя. Один учитель может преподавать \n",
    "# в неограниченном кол-ве классов свой определенный предмет. \n",
    "# Т.е. Учитель Иванов может преподавать математику у 5А и 6Б,\n",
    "# но больше математику не может преподавать никто другой.\n",
    "\n",
    "# Выбранная и заполненная данными структура должна решать следующие задачи:\n",
    "# 1. Получить полный список всех классов школы\n",
    "# 2. Получить список всех учеников в указанном классе\n",
    "#  (каждый ученик отображается в формате \"Фамилия И.О.\")\n",
    "# 3. Получить список всех предметов указанного ученика \n",
    "#  (Ученик --> Класс --> Учителя --> Предметы)\n",
    "# 4. Узнать ФИО родителей указанного ученика\n",
    "# 5. Получить список всех Учителей, преподающих в указанном классе"
   ]
  },
  {
   "cell_type": "code",
   "execution_count": 47,
   "metadata": {},
   "outputs": [],
   "source": [
    "class School:\n",
    "    def __init__(self, school_name, teachers, students):\n",
    "        self._school_name = school_name\n",
    "        self._teachers = teachers\n",
    "        self._students = students\n",
    "    \n",
    "    def get_classes_list(self):\n",
    "        classes = set([student.get_class_room for student in self._students])\n",
    "        return list(sorted(classes, key = lambda x: int(x[:-1])))\n",
    "\n",
    "    def get_pupils(self, class_room):\n",
    "        return [student.get_short_name for student in self._students if class_room == student.get_class_room]\n",
    "    \n",
    "    def get_teachers(self, class_room):\n",
    "        return [teacher.get_short_name for teacher in self._teachers if class_room in teacher.get_classes]\n",
    "    \n",
    "    def find_student(self, student_full_name):\n",
    "        for person in self._students:\n",
    "            if student_full_name == person.get_full_name:\n",
    "                teachers = [teachers.get_short_name for teachers in\n",
    "                            self._teachers if person.get_class_room in\n",
    "                            teachers.get_classes]\n",
    "                lessons = [teachers.get_courses for teachers in\n",
    "                           self._teachers if person.get_class_room in\n",
    "                           teachers.get_classes]\n",
    "                parents = person.get_parents\n",
    "\n",
    "                return {\n",
    "                    'full_name': student_full_name,\n",
    "                    'class_room': person.get_class_room,\n",
    "                    'teachers': teachers,\n",
    "                    'lessons': lessons,\n",
    "                    'parents': parents\n",
    "                    }\n",
    "\n",
    "    @property\n",
    "    def name(self):\n",
    "        return 'School name ' \\\n",
    "               '\"{}\"'.format(self._school_name)\n",
    "\n",
    "    @property\n",
    "    def adress(self):\n",
    "        return '{}'.format(self._school_adress)\n",
    "\n",
    "\n",
    "class People:\n",
    "    def __init__(self, last_name, first_name, middle_name):\n",
    "        self._last_name = last_name\n",
    "        self._first_name = first_name\n",
    "        self._middle_name = middle_name\n",
    "\n",
    "    @property\n",
    "    def get_full_name(self):\n",
    "        return '{0} {1} {2}'.format(self._last_name,\n",
    "                                    self._first_name,\n",
    "                                    self._middle_name)\n",
    "\n",
    "    @property\n",
    "    def get_short_name(self):\n",
    "        return '{0} {1}.{2}.'.format(self._last_name,\n",
    "                                     self._first_name[:1],\n",
    "                                     self._middle_name[:1])\n",
    "\n",
    "\n",
    "class Student(People):\n",
    "    def __init__(self, last_name, first_name, middle_name,\n",
    "                 class_room, mother, father):\n",
    "        People.__init__(self, last_name, first_name, middle_name)\n",
    "        self._class_room = class_room\n",
    "        self._parents = {\n",
    "            'mother': mother,\n",
    "            'father': father\n",
    "            }\n",
    "\n",
    "    @property\n",
    "    def get_class_room(self):\n",
    "        return self._class_room\n",
    "\n",
    "    @property\n",
    "    def get_parents(self):\n",
    "        return self._parents\n",
    "\n",
    "\n",
    "class Teacher(People):\n",
    "    def __init__(self, last_name, first_name, middle_name,\n",
    "                 courses, classes):\n",
    "        People.__init__(self, last_name, first_name, middle_name)\n",
    "        self._courses = courses\n",
    "        self._classes = classes\n",
    "\n",
    "    @property\n",
    "    def get_courses(self):\n",
    "        return self._courses\n",
    "\n",
    "    @property\n",
    "    def get_classes(self):\n",
    "        return self._classes\n",
    "\n",
    "    \n",
    "teachers = [\n",
    "    Teacher('Johnson', 'Bill', 'n/a', 'Math',\n",
    "            ['7Y', '2J', '1P']),\n",
    "    Teacher('Soer', 'Tom', 'Jr.', 'Chemistry',\n",
    "            ['1P', '6G', '7Y'])]\n",
    "\n",
    "\n",
    "students = [\n",
    "    Student('Jackson', 'Misha', 'n/a', '7Y', 'Jurina H.', 'Marshall T.'),\n",
    "   Student('Billou', 'John', 'Jr.', '6G', 'Billou A.', 'Billou-Mery B.'), Student('Torontino', 'Kile', 'Jim', '5J', 'Lesli O.', 'Lolina O.')]\n",
    "\n",
    "school = School('Rice', teachers, students)\n",
    "\n"
   ]
  },
  {
   "cell_type": "code",
   "execution_count": 48,
   "metadata": {},
   "outputs": [
    {
     "name": "stdout",
     "output_type": "stream",
     "text": [
      "Rice\n",
      "\n",
      "Classes list:\n",
      "5J, 6G, 7Y\n",
      "\n",
      "List \"1J\" class:\n",
      "\n",
      "\n",
      "Student: Jackson Misha n/a\n",
      "Class: \"7Y\"\n",
      "Teacher: Johnson B.n., Soer T.J.\n",
      "Subject: Math, Chemistry\n",
      "Parents: Jurina H., Marshall T.\n"
     ]
    }
   ],
   "source": [
    "print(school._school_name)\n",
    "\n",
    "print('\\nClasses list:')\n",
    "print(', '.join(school.get_classes_list()))\n",
    "\n",
    "print('\\nList \"1J\" class:')\n",
    "print('\\n'.join(school.get_pupils('1J')))\n",
    "\n",
    "student = school.find_student('Jackson Misha n/a')\n",
    "print('\\nStudent: {0}\\nClass: \"{1}\"\\n''Teacher: {2}\\nSubject: {3}'.format(student['full_name'],\n",
    "student['class_room'], ', '.join(student['teachers']), ', '.join(student['lessons'])))\n",
    "\n",
    "print('Parents: {0}, {1}'.format(student['parents']['mother'], student['parents']['father']))\n",
    "\n",
    "#print('\\nClass: \"1P\"\\nTeacher: ''{0}'.format(', '.join(school.get_teachers('p1'))))"
   ]
  },
  {
   "cell_type": "markdown",
   "metadata": {},
   "source": [
    "## HARD"
   ]
  },
  {
   "cell_type": "code",
   "execution_count": null,
   "metadata": {},
   "outputs": [],
   "source": [
    "# Задание-1: Решите задачу (дублированную ниже):\n",
    "\n",
    "# Дана ведомость расчета заработной платы (файл \"data/workers\").\n",
    "# Рассчитайте зарплату всех работников, зная что они получат полный оклад,\n",
    "# если отработают норму часов. Если же они отработали меньше нормы,\n",
    "# то их ЗП уменьшается пропорционально, а за заждый час переработки они получают\n",
    "# удвоенную ЗП, пропорциональную норме.\n",
    "# Кол-во часов, которые были отработаны, указаны в файле \"data/hours_of\"\n",
    "\n",
    "# С использованием классов.\n",
    "# Реализуйте классы сотрудников так, чтобы на вход функции-конструктора\n",
    "# каждый работник получал строку из файла"
   ]
  }
 ],
 "metadata": {
  "kernelspec": {
   "display_name": "Python 3",
   "language": "python",
   "name": "python3"
  },
  "language_info": {
   "codemirror_mode": {
    "name": "ipython",
    "version": 3
   },
   "file_extension": ".py",
   "mimetype": "text/x-python",
   "name": "python",
   "nbconvert_exporter": "python",
   "pygments_lexer": "ipython3",
   "version": "3.6.5"
  }
 },
 "nbformat": 4,
 "nbformat_minor": 2
}
