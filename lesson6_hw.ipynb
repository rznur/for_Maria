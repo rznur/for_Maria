{
 "cells": [
  {
   "cell_type": "markdown",
   "metadata": {},
   "source": [
    "## EASY"
   ]
  },
  {
   "cell_type": "code",
   "execution_count": null,
   "metadata": {},
   "outputs": [],
   "source": [
    "# Задача-1: Написать класс для фигуры-треугольника, заданного координатами трех точек.\n",
    "# Определить методы, позволяющие вычислить: площадь, высоту и периметр фигуры.\n",
    "\n",
    "import math\n",
    "\n",
    "class Triangle:\n",
    "    def __init__(self, x1,y1, x2,y2, x3,y3):\n",
    "        #A\n",
    "        self.x1 = x1\n",
    "        self.y1 = y1\n",
    "        #B\n",
    "        self.x2 = x2\n",
    "        self.y2 = y2\n",
    "        #C\n",
    "        self.x3 = x3\n",
    "        self.y3 = y3\n",
    "        self.AB = math.sqrt((x1-x2)**2+(y1-y2)**2)\n",
    "        self.BC = math.sqrt((x2-x3)**2+(y2-y3)**2)\n",
    "        self.AC = math.sqrt((x1-x3)**2+(y1-y3)**2)\n",
    "        self.p = (self.AB + self.BC + self.AC)/2 #half of perimetr to be used in height\n",
    "    def area(self):\n",
    "        self.h = (2/self.AB)*math.sqrt(self.p*(self.p - self.AB)*(self.p - self.BC)*(self.p - self.AC))\n",
    "        self.area = round((self.h/2)*self.AB,2)\n",
    "        return(self.area)\n",
    "    def height(self): # to AB\n",
    "        self.h = round((2/self.AB)*math.sqrt(self.p*(self.p - self.AB)*(self.p - self.BC)*(self.p - self.AC)),2)\n",
    "        return('height (AB as base) :', self.h)\n",
    "    def perimetr(self):\n",
    "        self.perimetr = round(self.AB + self.BC + self.AC,2)\n",
    "        return(self.perimetr)\n"
   ]
  },
  {
   "cell_type": "code",
   "execution_count": null,
   "metadata": {},
   "outputs": [],
   "source": [
    "triangle3 = Triangle(6,7,8,9,7,0)"
   ]
  },
  {
   "cell_type": "code",
   "execution_count": null,
   "metadata": {},
   "outputs": [],
   "source": [
    "triangle3.area()"
   ]
  },
  {
   "cell_type": "code",
   "execution_count": null,
   "metadata": {},
   "outputs": [],
   "source": [
    "triangle3.perimetr()"
   ]
  },
  {
   "cell_type": "code",
   "execution_count": null,
   "metadata": {},
   "outputs": [],
   "source": [
    "triangle3.height()"
   ]
  },
  {
   "cell_type": "code",
   "execution_count": null,
   "metadata": {},
   "outputs": [],
   "source": [
    "# Задача-2: Написать Класс \"Равнобочная трапеция\", заданной координатами 4-х точек.\n",
    "# Предусмотреть в классе методы:\n",
    "# проверка, является ли фигура равнобочной трапецией;\n",
    "# вычисления: длины сторон, периметр, площадь."
   ]
  },
  {
   "cell_type": "code",
   "execution_count": 33,
   "metadata": {},
   "outputs": [],
   "source": [
    "# НЕ МОГУ СДЕЛАТЬ ПРОВЕРКУ РАВНОБОЧНАЯ ЛИ ... совсем забыла геометрию...или обленилась. Подскажите, пжл, как. или пример решения \n",
    "import math\n",
    "\n",
    "class Trapezium: \n",
    "    # задавая вершины трапеции, пользователь должен помнить, что AB и CD - это стороны, а BC и DA - основания\n",
    "    # это надо учесть!!!\n",
    "    # важно соблюдать последовательность ввода вершин от А до Д, иначе считать будет неправильно\n",
    "    def __init__(self, A_x,A_y, B_x,B_y, C_x,C_y, D_x,D_y):\n",
    "        #A\n",
    "        self.A_x = A_x\n",
    "        self.A_y = A_y\n",
    "        #B\n",
    "        self.B_x = B_x\n",
    "        self.B_y = B_y\n",
    "        #C\n",
    "        self.C_x = C_x\n",
    "        self.C_y = C_y\n",
    "        #D\n",
    "        self.D_x = D_x\n",
    "        self.D_y = D_y\n",
    "        #bases\n",
    "        if B_x == C_x:\n",
    "            self.BC = abs(B_y-C_y)\n",
    "            print('BC=',self.BC)\n",
    "            self.h = abs(A_x-B_x)\n",
    "            print('h=',self.h)\n",
    "        else:\n",
    "            self.BC = abs(B_x-C_x)\n",
    "            self.h = abs(B_y-A_y)\n",
    "            print('BC=',self.BC)\n",
    "            print('h = ',self.h)\n",
    "            \n",
    "        if D_x == A_x:\n",
    "            self.DA = abs(D_y-A_y)\n",
    "            print('DA = ',self.DA)\n",
    "        else:\n",
    "            self.DA = abs(D_x-A_x)\n",
    "            print('DA = ',self.DA) \n",
    "        #clean check:\n",
    "        self.area = ((self.BC + self.DA)/2 )* self.h\n",
    "        self.\n",
    "        \n",
    "    def area(self):\n",
    "        self.area = ((self.BC + self.DA)/2 )* self.h\n",
    "        return(self.area)\n",
    "    \n",
    "    def sides(self):\n",
    "        # 1st way to calc sides\n",
    "        #self.area = ((self.BC + self.DA)/2 )* self.h\n",
    "        #rearrange formula for area from sides:\n",
    "        self.AB = self.CD = round(math.sqrt(((self.area*4/(self.BC+self.DA))**2+(self.BC-self.DA)**2)/4),2)\n",
    "        #2nd way to calc sides:\n",
    "        #self.BO =  abs(self.BC - self.DA)/2\n",
    "        #self.AB = self.CD = math.sqrt(self.BO**2+self.h**2) #trying Pyfagor\n",
    "        print('AB = ', self.AB, 'BC =',self.BC,'CD =', self.CD, 'DA = ', self.DA)\n",
    "        \n",
    "    def perimetr(self):\n",
    "        self.perimetr = self.AB + self.BC + self.CD + self.DA\n",
    "        return(self.perimetr)\n"
   ]
  },
  {
   "cell_type": "code",
   "execution_count": 34,
   "metadata": {},
   "outputs": [
    {
     "name": "stdout",
     "output_type": "stream",
     "text": [
      "BC= 4\n",
      "h =  1\n",
      "DA =  2\n"
     ]
    }
   ],
   "source": [
    "trpz2 = Trapezium(8,1, 7,2, 11,2, 10,1)"
   ]
  },
  {
   "cell_type": "code",
   "execution_count": 35,
   "metadata": {},
   "outputs": [
    {
     "data": {
      "text/plain": [
       "3.0"
      ]
     },
     "execution_count": 35,
     "metadata": {},
     "output_type": "execute_result"
    }
   ],
   "source": [
    "trpz2.area()"
   ]
  },
  {
   "cell_type": "code",
   "execution_count": 36,
   "metadata": {},
   "outputs": [
    {
     "name": "stdout",
     "output_type": "stream",
     "text": [
      "AB =  1.41 BC = 4 CD = 1.41 DA =  2\n"
     ]
    }
   ],
   "source": [
    "trpz2.sides()"
   ]
  },
  {
   "cell_type": "code",
   "execution_count": 37,
   "metadata": {},
   "outputs": [
    {
     "data": {
      "text/plain": [
       "8.82"
      ]
     },
     "execution_count": 37,
     "metadata": {},
     "output_type": "execute_result"
    }
   ],
   "source": [
    "trpz2.perimetr()"
   ]
  },
  {
   "cell_type": "markdown",
   "metadata": {},
   "source": [
    "## NORMAL"
   ]
  },
  {
   "cell_type": "code",
   "execution_count": null,
   "metadata": {},
   "outputs": [],
   "source": [
    "# Задание-1:\n",
    "# Реализуйте описаную ниже задачу, используя парадигмы ООП:\n",
    "# В школе есть Классы(5А, 7Б и т.д.), в которых учатся Ученики.\n",
    "# У каждого ученика есть два Родителя(мама и папа).\n",
    "# Также в школе преподают Учителя. Один учитель может преподавать \n",
    "# в неограниченном кол-ве классов свой определенный предмет. \n",
    "# Т.е. Учитель Иванов может преподавать математику у 5А и 6Б,\n",
    "# но больше математику не может преподавать никто другой.\n",
    "\n",
    "# Выбранная и заполненная данными структура должна решать следующие задачи:\n",
    "# 1. Получить полный список всех классов школы\n",
    "# 2. Получить список всех учеников в указанном классе\n",
    "#  (каждый ученик отображается в формате \"Фамилия И.О.\")\n",
    "# 3. Получить список всех предметов указанного ученика \n",
    "#  (Ученик --> Класс --> Учителя --> Предметы)\n",
    "# 4. Узнать ФИО родителей указанного ученика\n",
    "# 5. Получить список всех Учителей, преподающих в указанном классе"
   ]
  },
  {
   "cell_type": "code",
   "execution_count": null,
   "metadata": {},
   "outputs": [],
   "source": []
  },
  {
   "cell_type": "markdown",
   "metadata": {},
   "source": [
    "## HARD"
   ]
  },
  {
   "cell_type": "code",
   "execution_count": null,
   "metadata": {},
   "outputs": [],
   "source": [
    "# Задание-1: Решите задачу (дублированную ниже):\n",
    "\n",
    "# Дана ведомость расчета заработной платы (файл \"data/workers\").\n",
    "# Рассчитайте зарплату всех работников, зная что они получат полный оклад,\n",
    "# если отработают норму часов. Если же они отработали меньше нормы,\n",
    "# то их ЗП уменьшается пропорционально, а за заждый час переработки они получают\n",
    "# удвоенную ЗП, пропорциональную норме.\n",
    "# Кол-во часов, которые были отработаны, указаны в файле \"data/hours_of\"\n",
    "\n",
    "# С использованием классов.\n",
    "# Реализуйте классы сотрудников так, чтобы на вход функции-конструктора\n",
    "# каждый работник получал строку из файла"
   ]
  }
 ],
 "metadata": {
  "kernelspec": {
   "display_name": "Python 3",
   "language": "python",
   "name": "python3"
  },
  "language_info": {
   "codemirror_mode": {
    "name": "ipython",
    "version": 3
   },
   "file_extension": ".py",
   "mimetype": "text/x-python",
   "name": "python",
   "nbconvert_exporter": "python",
   "pygments_lexer": "ipython3",
   "version": "3.6.5"
  }
 },
 "nbformat": 4,
 "nbformat_minor": 2
}
